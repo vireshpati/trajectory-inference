{
 "cells": [
  {
   "cell_type": "markdown",
   "metadata": {},
   "source": [
    "# Calculation of the discrete OT maps for colored MNIST"
   ]
  },
  {
   "cell_type": "markdown",
   "metadata": {},
   "source": [
    "## 1. Imports"
   ]
  },
  {
   "cell_type": "code",
   "execution_count": 1,
   "metadata": {},
   "outputs": [],
   "source": [
    "import os, sys\n",
    "sys.path.append(\"..\")\n",
    "\n",
    "import math\n",
    "import matplotlib\n",
    "import numpy as np\n",
    "import matplotlib.pyplot as plt\n",
    "%matplotlib inline \n",
    "\n",
    "import numpy as np\n",
    "import pandas as pd\n",
    "import torch\n",
    "import torch.nn as nn\n",
    "import torchvision\n",
    "import gc\n",
    "import pdb\n",
    "\n",
    "from src import distributions\n",
    "import torch.nn.functional as F\n",
    "from ema_pytorch import EMA\n",
    "\n",
    "from src.resnet2 import ResNet_D\n",
    "# from src.resnet_generator import ResnetGenerator\n",
    "from src.cunet import CUNet\n",
    "from src.improved_diffusion import UNetModel\n",
    "\n",
    "from src.tools import unfreeze, freeze\n",
    "from src.tools import load_dataset, get_sde_pushed_loader_stats\n",
    "from src.fid_score import calculate_frechet_distance\n",
    "from src.tools import weights_init_D\n",
    "from src.plotters import plot_random_sde_images, plot_fixed_sde_images, plot_fixed_sde_trajectories, plot_random_sde_trajectories, plot_several_fixed_sde_trajectories, plot_several_random_sde_trajectories\n",
    "\n",
    "from collections import defaultdict\n",
    "from copy import deepcopy\n",
    "import json\n",
    "\n",
    "from tqdm import tqdm_notebook as tqdm\n",
    "from IPython.display import clear_output\n",
    "\n",
    "import wandb\n",
    "from src.tools import fig2data, fig2img # for wandb\n",
    "\n",
    "# This needed to use dataloaders for some datasets\n",
    "from PIL import PngImagePlugin\n",
    "LARGE_ENOUGH_NUMBER = 100\n",
    "PngImagePlugin.MAX_TEXT_CHUNK = LARGE_ENOUGH_NUMBER * (1024**2)"
   ]
  },
  {
   "cell_type": "code",
   "execution_count": 2,
   "metadata": {},
   "outputs": [],
   "source": [
    "gc.collect(); torch.cuda.empty_cache()"
   ]
  },
  {
   "cell_type": "markdown",
   "metadata": {},
   "source": [
    "## 2. Pairwise distance calculation"
   ]
  },
  {
   "cell_type": "code",
   "execution_count": null,
   "metadata": {},
   "outputs": [],
   "source": [
    "from ot.bregman import sinkhorn, sinkhorn_stabilized\n",
    "from ot.lp import emd\n",
    "from ot.stochastic import averaged_sgd_entropic_transport, c_transform_entropic, plan_dual_entropic, solve_dual_entropic\n",
    "import warnings\n",
    "warnings.simplefilter(\"always\")\n",
    "\n",
    "DATASET1, DATASET1_PATH = 'MNIST-colored_2', '/home/data/MNIST'\n",
    "DATASET2, DATASET2_PATH = 'MNIST-colored_3', '/home/data/MNIST'\n",
    "\n",
    "IMG_SIZE = 32\n",
    "BATCH_SIZE = 100\n",
    "N = 1000"
   ]
  },
  {
   "cell_type": "code",
   "execution_count": 27,
   "metadata": {},
   "outputs": [],
   "source": [
    "X_sampler, X_test_sampler = load_dataset(DATASET1, DATASET1_PATH,\n",
    "                                         img_size=IMG_SIZE, batch_size=BATCH_SIZE,\n",
    "                                         shuffle=False, device=\"cpu\")\n",
    "Y_sampler, Y_test_sampler = load_dataset(DATASET2, DATASET2_PATH,\n",
    "                                         img_size=IMG_SIZE, batch_size=BATCH_SIZE,\n",
    "                                         shuffle=False, device=\"cpu\")\n",
    "    \n",
    "torch.cuda.empty_cache(); gc.collect()\n",
    "clear_output()\n",
    "\n",
    "X = X_test_sampler.loader.dataset[:N][0]\n",
    "Y = Y_test_sampler.loader.dataset[:N][0]"
   ]
  },
  {
   "cell_type": "code",
   "execution_count": 131,
   "metadata": {},
   "outputs": [
    {
     "name": "stderr",
     "output_type": "stream",
     "text": [
      "/opt/anaconda3/lib/python3.8/site-packages/ipykernel/ipkernel.py:287: DeprecationWarning: `should_run_async` will not call `transform_cell` automatically in the future. Please pass the result to `transformed_cell` argument and any exception that happen during thetransform in `preprocessing_exc_tuple` in IPython 7.17 and above.\n",
      "  and should_run_async(code)\n",
      "<ipython-input-131-534f7f0dfe94>:3: TqdmDeprecationWarning: This function will be removed in tqdm==5.0.0\n",
      "Please use `tqdm.notebook.tqdm` instead of `tqdm.tqdm_notebook`\n",
      "  for i in tqdm(range(N)):\n"
     ]
    },
    {
     "data": {
      "application/vnd.jupyter.widget-view+json": {
       "model_id": "87ab093baa8e4ba3978bfd3d8cac648b",
       "version_major": 2,
       "version_minor": 0
      },
      "text/plain": [
       "HBox(children=(HTML(value=''), FloatProgress(value=0.0, max=1000.0), HTML(value='')))"
      ]
     },
     "metadata": {},
     "output_type": "display_data"
    },
    {
     "name": "stdout",
     "output_type": "stream",
     "text": [
      "\n"
     ]
    }
   ],
   "source": [
    "M = np.zeros((N, N))\n",
    "\n",
    "for i in tqdm(range(N)):\n",
    "    M[i] = ((X[i][None, :] - Y)**2).sum(dim=(1,2,3))\n",
    "\n",
    "a = np.ones(N)/N\n",
    "b = np.ones(N)/N\n",
    "\n",
    "M = np.array(M, dtype=np.float128)"
   ]
  },
  {
   "cell_type": "markdown",
   "metadata": {},
   "source": [
    "## 3. Discrete OT calculation"
   ]
  },
  {
   "cell_type": "markdown",
   "metadata": {},
   "source": [
    "### Discrete OT mapping calculation ($\\epsilon = 0$)"
   ]
  },
  {
   "cell_type": "code",
   "execution_count": null,
   "metadata": {},
   "outputs": [],
   "source": [
    "mapping = emd(a, b, M)"
   ]
  },
  {
   "cell_type": "code",
   "execution_count": 230,
   "metadata": {},
   "outputs": [
    {
     "name": "stderr",
     "output_type": "stream",
     "text": [
      "/opt/anaconda3/lib/python3.8/site-packages/ipykernel/ipkernel.py:287: DeprecationWarning: `should_run_async` will not call `transform_cell` automatically in the future. Please pass the result to `transformed_cell` argument and any exception that happen during thetransform in `preprocessing_exc_tuple` in IPython 7.17 and above.\n",
      "  and should_run_async(code)\n"
     ]
    }
   ],
   "source": [
    "fname = \"../discrete_transport_mapping/eps_0\"\n",
    "with open(fname, \"wb\") as f:\n",
    "    np.save(f, mapping)"
   ]
  },
  {
   "cell_type": "markdown",
   "metadata": {},
   "source": [
    "### Discrete entropic OT mapping calculation"
   ]
  },
  {
   "cell_type": "markdown",
   "metadata": {},
   "source": [
    "### $\\epsilon$ = 1"
   ]
  },
  {
   "cell_type": "code",
   "execution_count": null,
   "metadata": {},
   "outputs": [],
   "source": [
    "epsilon = 1\n",
    "\n",
    "reg = epsilon\n",
    "scale = 1/(3*IMG_SIZE*IMG_SIZE)\n",
    "distance = M*scale\n",
    "reg_normed = reg*scale\n",
    "mapping = sinkhorn(a, b, distance, reg=reg_normed, warn=True, verbose=True, numItermax=100000)"
   ]
  },
  {
   "cell_type": "code",
   "execution_count": 42,
   "metadata": {},
   "outputs": [
    {
     "name": "stderr",
     "output_type": "stream",
     "text": [
      "/opt/anaconda3/lib/python3.8/site-packages/ipykernel/ipkernel.py:287: DeprecationWarning: `should_run_async` will not call `transform_cell` automatically in the future. Please pass the result to `transformed_cell` argument and any exception that happen during thetransform in `preprocessing_exc_tuple` in IPython 7.17 and above.\n",
      "  and should_run_async(code)\n"
     ]
    }
   ],
   "source": [
    "fname = \"../discrete_transport_mapping/eps_1\"\n",
    "with open(fname, \"wb\") as f:\n",
    "    np.save(f, mapping)"
   ]
  },
  {
   "cell_type": "markdown",
   "metadata": {},
   "source": [
    "### $\\epsilon = 10$"
   ]
  },
  {
   "cell_type": "code",
   "execution_count": null,
   "metadata": {},
   "outputs": [],
   "source": [
    "epsilon = 10\n",
    "\n",
    "reg = epsilon\n",
    "scale = 1/(3*IMG_SIZE*IMG_SIZE)\n",
    "distance = M*scale\n",
    "reg_normed = reg*scale\n",
    "mapping = sinkhorn(a, b, distance, reg=reg_normed, warn=True, verbose=True, numItermax=100000)"
   ]
  },
  {
   "cell_type": "code",
   "execution_count": null,
   "metadata": {},
   "outputs": [],
   "source": [
    "fname = \"../discrete_transport_mapping/eps_10\"\n",
    "with open(fname, \"wb\") as f:\n",
    "    np.save(f, mapping)"
   ]
  }
 ],
 "metadata": {
  "kernelspec": {
   "display_name": "Python 3",
   "language": "python",
   "name": "python3"
  },
  "language_info": {
   "codemirror_mode": {
    "name": "ipython",
    "version": 3
   },
   "file_extension": ".py",
   "mimetype": "text/x-python",
   "name": "python",
   "nbconvert_exporter": "python",
   "pygments_lexer": "ipython3",
   "version": "3.8.5"
  }
 },
 "nbformat": 4,
 "nbformat_minor": 4
}
